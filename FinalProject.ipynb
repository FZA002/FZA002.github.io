{
 "cells": [
  {
   "cell_type": "markdown",
   "id": "f75dc832-168a-4622-9a69-0373c146f33e",
   "metadata": {},
   "source": [
    "# The Rise (and Fall?) of Conor Mcgregor\n",
    "## By Frederick Almond"
   ]
  },
  {
   "cell_type": "markdown",
   "id": "3ea1191a-e1f4-4ec4-9041-42d309aeebc3",
   "metadata": {},
   "source": [
    "![ChessUrl](https://media.giphy.com/media/uypubDRjnv0icWp2hV/giphy.gif \"chess\")"
   ]
  },
  {
   "cell_type": "markdown",
   "id": "da888c80-1fdf-4d6c-88d6-c34cec0f5712",
   "metadata": {},
   "source": [
    "# First, some background...\n",
    "Conor McGregor. Quite a polarizing name to most. For those of you who don't know, Conor McGregor is an irish mixed martial artist currently competing in the Ultimate Fighting Competition (UFC). He is the former featherweight (145lbs) and lightweight (155lbs) champion, and is the first ever competitor in UFC history to have been a champion in two weight classes simultaneously. He is widely regarded as the most influential mixed martial artist ever, and is recognized for his massive role in catapulting MMA onto the global stage. Conor's rise to fame not only came from skill that was ahead of his time, but his immense confidence and trash talking that came with it. He earned the nickname \"The Mystic Mac\" after predicting many of his victories down to the round and method of victory. As you can imagine, this gained him a boatload of fans very quickly, and made his brand expand outside of just MMA. Further reading on Conor is available at: https://en.wikipedia.org/wiki/Conor_McGregor"
   ]
  },
  {
   "cell_type": "markdown",
   "id": "8e9f7fd2-afc9-4900-98a0-87dc60e9cd56",
   "metadata": {},
   "source": [
    "# Okay. So what about him?"
   ]
  },
  {
   "cell_type": "markdown",
   "id": "a068022e-e494-45d5-83a4-3c99d1427f6a",
   "metadata": {},
   "source": [
    "In recent years, Conor has changed in many ways. Money, fame, and a huge ego have put him in a completely different position then when he started competing in MMA. As time has gone on, many factors have changed, not only relating to his lifestyle, but also in MMA. Fighters have become more well-rounded since McGregor's meteoric rise, where as Conor has mostly stuck to his traditional, hands-low, karate style of fighting, which is part of his appeal to fans. In this project, my goal is to try and use data science to better understand factors that may have had an affect upon his performance. I will explore many different factors, each as their own section. Many people argue that he is now \"washed up\", while his fans (myself included) hope that he may one day snag UFC gold again."
   ]
  },
  {
   "cell_type": "markdown",
   "id": "f50beecd-54b2-4ac2-8ce1-e3e231353245",
   "metadata": {
    "tags": []
   },
   "source": [
    "# The Data\n",
    "The data I will use will only be on fights in the UFC. It's worth noting that of Conor's record of 22 wins and 6 losses, only the 14 most recent of those fights were in the UFC. The internet has very conveniently blessed the world with http://ufcstats.com/statistics/events/completed. This website has detailed statistics on every fighter and fight that has taken place in the UFC. It has statistics on a fighter as a whole, on specific fights, and even specific rounds of fights. It allows us to see how many strikes a fighter lands, their accuracy, where the strikes landed, how many takedowns they land or go for, and much more."
   ]
  },
  {
   "cell_type": "markdown",
   "id": "083c6eb7-23ad-473b-bb8a-0c0f109aee6d",
   "metadata": {},
   "source": [
    "# Data Collection\n",
    "Below is the code I used to grab the intial data from ufcstats page on Conor. The table that I extracted with pandas lists all of Conor's fights, along with a few major data points on these. These points include: whether Conor won or lost, who he fought, # of knockdowns by both fighters, # of significant strikes landed by both fighters, # of takedowns attempted by both fighters, # of submissions attempted by both fighters, the name of the event, date of the event, what round the fight finished in, and at what time of that round the fight finished at."
   ]
  },
  {
   "cell_type": "code",
   "execution_count": 29,
   "id": "8dac2291-af77-4237-ac38-c7630daf1b3c",
   "metadata": {},
   "outputs": [
    {
     "name": "stdout",
     "output_type": "stream",
     "text": [
      "     W/L                              Fighter    Kd       Str    Td   Sub  \\\n",
      "0    NaN                                  NaN   NaN       NaN   NaN   NaN   \n",
      "1   loss       Conor McGregor  Dustin Poirier  0  0    27  36  0  1  1  0   \n",
      "2   loss       Conor McGregor  Dustin Poirier  0  1    29  48  0  1  0  0   \n",
      "3    win       Conor McGregor  Donald Cerrone  1  0     19  0  0  0  0  0   \n",
      "4   loss  Conor McGregor  Khabib Nurmagomedov  0  0    51  70  0  3  0  1   \n",
      "5    win        Conor McGregor  Eddie Alvarez  3  0     32  9  0  0  0  0   \n",
      "6    win            Conor McGregor  Nate Diaz  3  0  164  166  0  1  0  0   \n",
      "7   loss            Conor McGregor  Nate Diaz  0  0    61  77  0  1  0  2   \n",
      "8    win            Conor McGregor  Jose Aldo  1  0      5  1  0  0  0  0   \n",
      "9    win          Conor McGregor  Chad Mendes  1  0    46  31  0  4  0  0   \n",
      "10   win         Conor McGregor  Dennis Siver  1  0    64  32  0  0  0  0   \n",
      "11   win       Conor McGregor  Dustin Poirier  1  0     9  10  0  0  0  0   \n",
      "12   win        Conor McGregor  Diego Brandao  1  0     18  9  1  0  0  1   \n",
      "13   win         Conor McGregor  Max Holloway  0  0    53  23  4  0  0  0   \n",
      "14   win       Conor McGregor  Marcus Brimage  1  0    21  12  0  0  0  0   \n",
      "\n",
      "                                                Event                 Method  \\\n",
      "0                                                 NaN                    NaN   \n",
      "1      UFC 264: Poirier vs. McGregor 3  Jul. 10, 2021                 KO/TKO   \n",
      "2        UFC 257: Poirier vs. McGregor  Jan. 23, 2021        KO/TKO  Punches   \n",
      "3         UFC 246: McGregor vs. Cowboy  Jan. 18, 2020        KO/TKO  Punches   \n",
      "4         UFC 229: Khabib vs. McGregor  Oct. 06, 2018        SUB  Neck Crank   \n",
      "5         UFC 205: Alvarez vs McGregor  Nov. 12, 2016        KO/TKO  Punches   \n",
      "6         UFC 202: Diaz vs. McGregor 2  Aug. 20, 2016                  M-DEC   \n",
      "7            UFC 196: McGregor vs Diaz  Mar. 05, 2016  SUB  Rear Naked Choke   \n",
      "8            UFC 194: Aldo vs McGregor  Dec. 12, 2015          KO/TKO  Punch   \n",
      "9          UFC 189: Mendes vs McGregor  Jul. 11, 2015          KO/TKO  Punch   \n",
      "10  UFC Fight Night: McGregor vs Siver  Jan. 18, 2015          KO/TKO  Punch   \n",
      "11         UFC 178: Johnson vs Cariaso  Sep. 27, 2014          KO/TKO  Punch   \n",
      "12  UFC Fight Night: McGregor vs Brandao  Jul. 19,...          KO/TKO  Punch   \n",
      "13   UFC Fight Night: Shogun vs Sonnen  Aug. 17, 2013                  U-DEC   \n",
      "14   UFC on FUEL TV: Mousasi vs Latifi  Apr. 06, 2013        KO/TKO  Punches   \n",
      "\n",
      "    Round  Time  \n",
      "0     NaN   NaN  \n",
      "1     1.0  5:00  \n",
      "2     2.0  2:32  \n",
      "3     1.0  0:40  \n",
      "4     4.0  3:03  \n",
      "5     2.0  3:04  \n",
      "6     5.0  5:00  \n",
      "7     2.0  4:12  \n",
      "8     1.0  0:13  \n",
      "9     2.0  4:57  \n",
      "10    2.0  1:54  \n",
      "11    1.0  1:46  \n",
      "12    1.0  4:05  \n",
      "13    3.0  5:00  \n",
      "14    1.0  1:07  \n"
     ]
    }
   ],
   "source": [
    "import requests\n",
    "import pandas as pd\n",
    "from bs4 import BeautifulSoup as bs\n",
    "\n",
    "# Use pandas to grab the table of Conor's fights\n",
    "table = pd.read_html(\"http://ufcstats.com/fighter-details/f4c49976c75c5ab2\", header=[0])[0]\n",
    "print(table)"
   ]
  },
  {
   "cell_type": "code",
   "execution_count": null,
   "id": "70a61099-140a-4e19-8c4e-3dfa4adf4fa9",
   "metadata": {},
   "outputs": [],
   "source": []
  }
 ],
 "metadata": {
  "kernelspec": {
   "display_name": "Python 3 (ipykernel)",
   "language": "python",
   "name": "python3"
  },
  "language_info": {
   "codemirror_mode": {
    "name": "ipython",
    "version": 3
   },
   "file_extension": ".py",
   "mimetype": "text/x-python",
   "name": "python",
   "nbconvert_exporter": "python",
   "pygments_lexer": "ipython3",
   "version": "3.9.7"
  }
 },
 "nbformat": 4,
 "nbformat_minor": 5
}
