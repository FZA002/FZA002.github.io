{
 "cells": [
  {
   "cell_type": "markdown",
   "id": "f75dc832-168a-4622-9a69-0373c146f33e",
   "metadata": {},
   "source": [
    "# The Rise (and Fall?) of Conor Mcgregor\n",
    "## By Frederick Almond"
   ]
  },
  {
   "cell_type": "markdown",
   "id": "3ea1191a-e1f4-4ec4-9041-42d309aeebc3",
   "metadata": {},
   "source": [
    "![WalkUrl](https://media.giphy.com/media/uypubDRjnv0icWp2hV/giphy.gif \"Walk\")"
   ]
  },
  {
   "cell_type": "markdown",
   "id": "da888c80-1fdf-4d6c-88d6-c34cec0f5712",
   "metadata": {},
   "source": [
    "# First, some background...\n",
    "Conor McGregor. Quite a polarizing name to most. For those of you who don't know, Conor McGregor is an irish mixed martial artist currently competing in the Ultimate Fighting Competition (UFC). He is the former featherweight (145lbs) and lightweight (155lbs) champion, and is the first ever competitor in UFC history to have been a champion in two weight classes simultaneously. He is widely regarded as the most influential mixed martial artist ever, and is recognized for his massive role in catapulting MMA onto the global stage. Conor's rise to fame not only came from skill that was ahead of his time, but his immense confidence and trash talking that came with it. He earned the nickname \"The Mystic Mac\" after predicting many of his victories down to the round and method of victory. As you can imagine, this gained him a boatload of fans very quickly, and made his brand expand outside of just MMA. Further reading on Conor is available at: https://en.wikipedia.org/wiki/Conor_McGregor"
   ]
  },
  {
   "cell_type": "markdown",
   "id": "8e9f7fd2-afc9-4900-98a0-87dc60e9cd56",
   "metadata": {},
   "source": [
    "# Okay. So what about him?"
   ]
  },
  {
   "cell_type": "markdown",
   "id": "a068022e-e494-45d5-83a4-3c99d1427f6a",
   "metadata": {},
   "source": [
    "In recent years, Conor has changed in many ways. Money, fame, and a huge ego have put him in a completely different position than when he started competing in MMA. As time has gone on, many factors have changed, not only relating to his lifestyle, but also in MMA. Fighters have become more well-rounded since McGregor's meteoric rise, where as Conor has mostly stuck to his traditional, hands-low, karate style of fighting, which is part of his appeal to fans. In this project, my goal is to try and use data science to better understand factors that may have had an affect upon his performance. I will explore many different factors, each as their own section. Many people argue that he is now \"washed up\", while his fans (myself included) hope that he may one day snag UFC gold again."
   ]
  },
  {
   "cell_type": "markdown",
   "id": "f50beecd-54b2-4ac2-8ce1-e3e231353245",
   "metadata": {
    "tags": []
   },
   "source": [
    "# The Data\n",
    "The data I will use will mostly only be on fights in the UFC. It's worth noting that of Conor's record of 22 wins and 6 losses, only the 14 most recent of those fights were in the UFC. The internet has very conveniently blessed the world with http://ufcstats.com/statistics/events/completed. This website has detailed statistics on every fighter and fight that has taken place in the UFC. It has statistics on a fighter as a whole, on specific fights, and even specific rounds of fights. It allows us to see how many strikes a fighter lands, their accuracy, where the strikes landed, how many takedowns they land or go for, and much more."
   ]
  },
  {
   "cell_type": "markdown",
   "id": "083c6eb7-23ad-473b-bb8a-0c0f109aee6d",
   "metadata": {},
   "source": [
    "# Data Collection and Management\n",
    "Below is the code I used to grab the intial data from ufcstats page on Conor. The table that I extracted with pandas lists all of Conor's fights, along with a few major data points on these. These points include: whether Conor won or lost, who he fought, # of knockdowns by both fighters, # of significant strikes landed by both fighters, # of takedowns attempted by both fighters, # of submissions attempted by both fighters, the name of the event, date of the event, what round the fight finished in, and at what time of that round the fight finished at."
   ]
  },
  {
   "cell_type": "code",
   "execution_count": 30,
   "id": "8dac2291-af77-4237-ac38-c7630daf1b3c",
   "metadata": {},
   "outputs": [
    {
     "data": {
      "text/html": [
       "<div>\n",
       "<style scoped>\n",
       "    .dataframe tbody tr th:only-of-type {\n",
       "        vertical-align: middle;\n",
       "    }\n",
       "\n",
       "    .dataframe tbody tr th {\n",
       "        vertical-align: top;\n",
       "    }\n",
       "\n",
       "    .dataframe thead th {\n",
       "        text-align: right;\n",
       "    }\n",
       "</style>\n",
       "<table border=\"1\" class=\"dataframe\">\n",
       "  <thead>\n",
       "    <tr style=\"text-align: right;\">\n",
       "      <th></th>\n",
       "      <th>W/L</th>\n",
       "      <th>Fighter</th>\n",
       "      <th>Kd</th>\n",
       "      <th>Str</th>\n",
       "      <th>Td</th>\n",
       "      <th>Sub</th>\n",
       "      <th>Event</th>\n",
       "      <th>Method</th>\n",
       "      <th>Round</th>\n",
       "      <th>Time</th>\n",
       "    </tr>\n",
       "  </thead>\n",
       "  <tbody>\n",
       "    <tr>\n",
       "      <th>1</th>\n",
       "      <td>loss</td>\n",
       "      <td>Conor McGregor  Dustin Poirier</td>\n",
       "      <td>0  0</td>\n",
       "      <td>27  36</td>\n",
       "      <td>0  1</td>\n",
       "      <td>1  0</td>\n",
       "      <td>UFC 264: Poirier vs. McGregor 3  Jul. 10, 2021</td>\n",
       "      <td>KO/TKO</td>\n",
       "      <td>1.0</td>\n",
       "      <td>5:00</td>\n",
       "    </tr>\n",
       "    <tr>\n",
       "      <th>2</th>\n",
       "      <td>loss</td>\n",
       "      <td>Conor McGregor  Dustin Poirier</td>\n",
       "      <td>0  1</td>\n",
       "      <td>29  48</td>\n",
       "      <td>0  1</td>\n",
       "      <td>0  0</td>\n",
       "      <td>UFC 257: Poirier vs. McGregor  Jan. 23, 2021</td>\n",
       "      <td>KO/TKO  Punches</td>\n",
       "      <td>2.0</td>\n",
       "      <td>2:32</td>\n",
       "    </tr>\n",
       "    <tr>\n",
       "      <th>3</th>\n",
       "      <td>win</td>\n",
       "      <td>Conor McGregor  Donald Cerrone</td>\n",
       "      <td>1  0</td>\n",
       "      <td>19  0</td>\n",
       "      <td>0  0</td>\n",
       "      <td>0  0</td>\n",
       "      <td>UFC 246: McGregor vs. Cowboy  Jan. 18, 2020</td>\n",
       "      <td>KO/TKO  Punches</td>\n",
       "      <td>1.0</td>\n",
       "      <td>0:40</td>\n",
       "    </tr>\n",
       "    <tr>\n",
       "      <th>4</th>\n",
       "      <td>loss</td>\n",
       "      <td>Conor McGregor  Khabib Nurmagomedov</td>\n",
       "      <td>0  0</td>\n",
       "      <td>51  70</td>\n",
       "      <td>0  3</td>\n",
       "      <td>0  1</td>\n",
       "      <td>UFC 229: Khabib vs. McGregor  Oct. 06, 2018</td>\n",
       "      <td>SUB  Neck Crank</td>\n",
       "      <td>4.0</td>\n",
       "      <td>3:03</td>\n",
       "    </tr>\n",
       "    <tr>\n",
       "      <th>5</th>\n",
       "      <td>win</td>\n",
       "      <td>Conor McGregor  Eddie Alvarez</td>\n",
       "      <td>3  0</td>\n",
       "      <td>32  9</td>\n",
       "      <td>0  0</td>\n",
       "      <td>0  0</td>\n",
       "      <td>UFC 205: Alvarez vs McGregor  Nov. 12, 2016</td>\n",
       "      <td>KO/TKO  Punches</td>\n",
       "      <td>2.0</td>\n",
       "      <td>3:04</td>\n",
       "    </tr>\n",
       "  </tbody>\n",
       "</table>\n",
       "</div>"
      ],
      "text/plain": [
       "    W/L                              Fighter    Kd     Str    Td   Sub  \\\n",
       "1  loss       Conor McGregor  Dustin Poirier  0  0  27  36  0  1  1  0   \n",
       "2  loss       Conor McGregor  Dustin Poirier  0  1  29  48  0  1  0  0   \n",
       "3   win       Conor McGregor  Donald Cerrone  1  0   19  0  0  0  0  0   \n",
       "4  loss  Conor McGregor  Khabib Nurmagomedov  0  0  51  70  0  3  0  1   \n",
       "5   win        Conor McGregor  Eddie Alvarez  3  0   32  9  0  0  0  0   \n",
       "\n",
       "                                            Event           Method  Round  \\\n",
       "1  UFC 264: Poirier vs. McGregor 3  Jul. 10, 2021           KO/TKO    1.0   \n",
       "2    UFC 257: Poirier vs. McGregor  Jan. 23, 2021  KO/TKO  Punches    2.0   \n",
       "3     UFC 246: McGregor vs. Cowboy  Jan. 18, 2020  KO/TKO  Punches    1.0   \n",
       "4     UFC 229: Khabib vs. McGregor  Oct. 06, 2018  SUB  Neck Crank    4.0   \n",
       "5     UFC 205: Alvarez vs McGregor  Nov. 12, 2016  KO/TKO  Punches    2.0   \n",
       "\n",
       "   Time  \n",
       "1  5:00  \n",
       "2  2:32  \n",
       "3  0:40  \n",
       "4  3:03  \n",
       "5  3:04  "
      ]
     },
     "execution_count": 30,
     "metadata": {},
     "output_type": "execute_result"
    }
   ],
   "source": [
    "import requests\n",
    "import pandas as pd\n",
    "from bs4 import BeautifulSoup as bs\n",
    "\n",
    "# Use pandas to grab the table of Conor's fights\n",
    "df = pd.read_html(\"http://ufcstats.com/fighter-details/f4c49976c75c5ab2\", header=[0])[0]\n",
    "df = df.iloc[1: , :] # Get rid of first row, which is just NaN's\n",
    "df.head()"
   ]
  },
  {
   "cell_type": "markdown",
   "id": "d6dcec04-78a1-46cf-a1d7-6e0689344a52",
   "metadata": {},
   "source": [
    "# Factor 1: Pay per Fight\n",
    "![MoneyUrl](https://media.giphy.com/media/tuWADkb2g3PAk/giphy.gif \"Money\")\n",
    "\n",
    "It's no surprise that as McGregor's popularity grew, so did his paychecks. Conor started at a mere 8,000 dollars to show up to fight, and an additional $8,000 to win. Don't forget, that's before taxes as well as paying his fighting team. This was also before he earned numerous, lucrative sponsorships and started many of his own businesses, which have only further fattened his pockets. I was able to find his pay (excluding additional earnings from Pay-per-view percentages) for each fight in the UFC from https://thesportsdaily.com/2021/07/11/conor-mcgregor-career-earnings-fox11/. Is the saying, \"It’s tough to get out of bed to do roadwork at 5am when you’ve been sleeping in silk pajamas\" true for Conor? Or has the money not gotten to his head in terms of performance? My guess is that more money means worse performance, as this usually holds true. Let's find out."
   ]
  },
  {
   "cell_type": "code",
   "execution_count": 31,
   "id": "8cf464b6-c6af-429b-a27b-21ea434861ab",
   "metadata": {},
   "outputs": [
    {
     "data": {
      "text/html": [
       "<div>\n",
       "<style scoped>\n",
       "    .dataframe tbody tr th:only-of-type {\n",
       "        vertical-align: middle;\n",
       "    }\n",
       "\n",
       "    .dataframe tbody tr th {\n",
       "        vertical-align: top;\n",
       "    }\n",
       "\n",
       "    .dataframe thead th {\n",
       "        text-align: right;\n",
       "    }\n",
       "</style>\n",
       "<table border=\"1\" class=\"dataframe\">\n",
       "  <thead>\n",
       "    <tr style=\"text-align: right;\">\n",
       "      <th></th>\n",
       "      <th>W/L</th>\n",
       "      <th>Fighter</th>\n",
       "      <th>Kd</th>\n",
       "      <th>Str</th>\n",
       "      <th>Td</th>\n",
       "      <th>Sub</th>\n",
       "      <th>Event</th>\n",
       "      <th>Method</th>\n",
       "      <th>Round</th>\n",
       "      <th>Time</th>\n",
       "      <th>Pay</th>\n",
       "    </tr>\n",
       "  </thead>\n",
       "  <tbody>\n",
       "    <tr>\n",
       "      <th>14</th>\n",
       "      <td>win</td>\n",
       "      <td>Conor McGregor  Marcus Brimage</td>\n",
       "      <td>1  0</td>\n",
       "      <td>21  12</td>\n",
       "      <td>0  0</td>\n",
       "      <td>0  0</td>\n",
       "      <td>UFC on FUEL TV: Mousasi vs Latifi  Apr. 06, 2013</td>\n",
       "      <td>KO/TKO  Punches</td>\n",
       "      <td>1.0</td>\n",
       "      <td>1:07</td>\n",
       "      <td>76000</td>\n",
       "    </tr>\n",
       "    <tr>\n",
       "      <th>13</th>\n",
       "      <td>win</td>\n",
       "      <td>Conor McGregor  Max Holloway</td>\n",
       "      <td>0  0</td>\n",
       "      <td>53  23</td>\n",
       "      <td>4  0</td>\n",
       "      <td>0  0</td>\n",
       "      <td>UFC Fight Night: Shogun vs Sonnen  Aug. 17, 2013</td>\n",
       "      <td>U-DEC</td>\n",
       "      <td>3.0</td>\n",
       "      <td>5:00</td>\n",
       "      <td>24000</td>\n",
       "    </tr>\n",
       "    <tr>\n",
       "      <th>12</th>\n",
       "      <td>win</td>\n",
       "      <td>Conor McGregor  Diego Brandao</td>\n",
       "      <td>1  0</td>\n",
       "      <td>18  9</td>\n",
       "      <td>1  0</td>\n",
       "      <td>0  1</td>\n",
       "      <td>UFC Fight Night: McGregor vs Brandao  Jul. 19,...</td>\n",
       "      <td>KO/TKO  Punch</td>\n",
       "      <td>1.0</td>\n",
       "      <td>4:05</td>\n",
       "      <td>82000</td>\n",
       "    </tr>\n",
       "    <tr>\n",
       "      <th>11</th>\n",
       "      <td>win</td>\n",
       "      <td>Conor McGregor  Dustin Poirier</td>\n",
       "      <td>1  0</td>\n",
       "      <td>9  10</td>\n",
       "      <td>0  0</td>\n",
       "      <td>0  0</td>\n",
       "      <td>UFC 178: Johnson vs Cariaso  Sep. 27, 2014</td>\n",
       "      <td>KO/TKO  Punch</td>\n",
       "      <td>1.0</td>\n",
       "      <td>1:46</td>\n",
       "      <td>200000</td>\n",
       "    </tr>\n",
       "    <tr>\n",
       "      <th>10</th>\n",
       "      <td>win</td>\n",
       "      <td>Conor McGregor  Dennis Siver</td>\n",
       "      <td>1  0</td>\n",
       "      <td>64  32</td>\n",
       "      <td>0  0</td>\n",
       "      <td>0  0</td>\n",
       "      <td>UFC Fight Night: McGregor vs Siver  Jan. 18, 2015</td>\n",
       "      <td>KO/TKO  Punch</td>\n",
       "      <td>2.0</td>\n",
       "      <td>1:54</td>\n",
       "      <td>220000</td>\n",
       "    </tr>\n",
       "  </tbody>\n",
       "</table>\n",
       "</div>"
      ],
      "text/plain": [
       "    W/L                         Fighter    Kd     Str    Td   Sub  \\\n",
       "14  win  Conor McGregor  Marcus Brimage  1  0  21  12  0  0  0  0   \n",
       "13  win    Conor McGregor  Max Holloway  0  0  53  23  4  0  0  0   \n",
       "12  win   Conor McGregor  Diego Brandao  1  0   18  9  1  0  0  1   \n",
       "11  win  Conor McGregor  Dustin Poirier  1  0   9  10  0  0  0  0   \n",
       "10  win    Conor McGregor  Dennis Siver  1  0  64  32  0  0  0  0   \n",
       "\n",
       "                                                Event           Method  Round  \\\n",
       "14   UFC on FUEL TV: Mousasi vs Latifi  Apr. 06, 2013  KO/TKO  Punches    1.0   \n",
       "13   UFC Fight Night: Shogun vs Sonnen  Aug. 17, 2013            U-DEC    3.0   \n",
       "12  UFC Fight Night: McGregor vs Brandao  Jul. 19,...    KO/TKO  Punch    1.0   \n",
       "11         UFC 178: Johnson vs Cariaso  Sep. 27, 2014    KO/TKO  Punch    1.0   \n",
       "10  UFC Fight Night: McGregor vs Siver  Jan. 18, 2015    KO/TKO  Punch    2.0   \n",
       "\n",
       "    Time     Pay  \n",
       "14  1:07   76000  \n",
       "13  5:00   24000  \n",
       "12  4:05   82000  \n",
       "11  1:46  200000  \n",
       "10  1:54  220000  "
      ]
     },
     "execution_count": 31,
     "metadata": {},
     "output_type": "execute_result"
    }
   ],
   "source": [
    "# Add the pay Conor earned for each fight to our dataframe\n",
    "pay = [5011000, 5011000, 3060000, 2980000, 3090000, 3090000, 1090000, 590000, 580000, 220000, 200000, 82000, 24000, 76000]\n",
    "df[\"Pay\"] = pay\n",
    "df = df.iloc[::-1] # Reverse the dataframe so oldest fights are at top\n",
    "df.head()"
   ]
  },
  {
   "cell_type": "markdown",
   "id": "81f29f83-ec2d-4b46-a229-7f8dfc66c36e",
   "metadata": {},
   "source": [
    "Now that we have his pay per fight, let's calculate his cumulative win loss ratio before each fight. Here I'm going to start the win-loss ratio to include his record before the UFC (12-2). It's safe to assume that he was making much less per fight before he joined the organization. This would start him with a win-loss of 6.0.\n",
    "\n",
    "## Exploratory Analysis"
   ]
  },
  {
   "cell_type": "code",
   "execution_count": 32,
   "id": "00d759ac-3827-4620-b408-3e65d13720af",
   "metadata": {},
   "outputs": [
    {
     "data": {
      "text/plain": [
       "[<matplotlib.lines.Line2D at 0x7ff4eac73580>]"
      ]
     },
     "execution_count": 32,
     "metadata": {},
     "output_type": "execute_result"
    },
    {
     "data": {
      "image/png": "[encoded data removed]",
      "text/plain": [
       "<Figure size 432x288 with 1 Axes>"
      ]
     },
     "metadata": {
      "needs_background": "light"
     },
     "output_type": "display_data"
    }
   ],
   "source": [
    "# Iterate through the dataframe and keep a running tab of Conor's professional record\n",
    "wins = 12\n",
    "losses = 2\n",
    "ratio = wins/losses\n",
    "wl_ratio_column = []\n",
    "record_column = []\n",
    "\n",
    "# Go through the dataframe from bottom to top, since the bottom of the dataframe is the oldest fight\n",
    "for idx in df.index:\n",
    "    if df.loc[idx, \"W/L\"] == \"win\":\n",
    "        wins += 1\n",
    "    else:\n",
    "        losses += 1\n",
    "    \n",
    "    ratio = wins/losses\n",
    "    wl_ratio_column += [ratio]\n",
    "    record_column += [\"{}-{}\".format(str(wins), str(losses))]\n",
    "    \n",
    "# Add the wl ratio and record to the dataframe\n",
    "df[\"Record After Fight\"] = record_column\n",
    "df[\"Win/Loss Ratio\"] = wl_ratio_column\n",
    "df = df.reset_index() # Fix indicies\n",
    "df = df.drop(\"index\", axis=1)\n",
    "\n",
    "# Finally, lets visualize this\n",
    "import matplotlib.pyplot as mlp\n",
    "mlp.title(\"Conor's Pay Per Fight Versus Win/Loss Ratio\")\n",
    "mlp.ylabel(\"Win/Loss Ratio\")\n",
    "mlp.xlabel(\"Pay\")\n",
    "mlp.plot(df[\"Pay\"], df[\"Win/Loss Ratio\"], \"o\")"
   ]
  },
  {
   "cell_type": "markdown",
   "id": "13557ee8-68e3-4972-8938-f282e436ba7b",
   "metadata": {},
   "source": [
    "As you can see, as Conor's pay increased, it seems that his win-loss ratio decreased. He had an inital 7 fight win streak, and after that, he started making over $500,000 per fight, which is around when his win-loss ratio rapidly declined. Other factors aside, it does seem that as Conor earned more money, he also earned more losses. But remember, correlation does not equal causation!"
   ]
  },
  {
   "cell_type": "markdown",
   "id": "df9a91cf-e2b9-402d-aeff-01ef4d0474a6",
   "metadata": {},
   "source": [
    "## Factor 2: Weight Class\n",
    "![WeightUrl](https://media.giphy.com/media/3oriOhQyxEDAme8td6/giphy.gif \"Weight\")\n",
    "\n",
    "In fighting, a huge part of a fighter's performance can come from what weight they choose to fight at. Now it's important to note that the majority of fighters cut a significant amount of weight, so that they can compete in a lighter weight class. The idea is that fighting smaller opponents gives one a competitive advantage. Conor has competed in three different weight classes, 145lbs, 155lbs, and 175lbs. His natural weight is probably closest to 155lbs. Has the weight class that Conor competes at had a big effect on his performance? As someone who had to cut weight when I wrestled in highschool, I personally felt less competitive when I didn't compete at my natural weight. My guess is that Conor probably did worse as well."
   ]
  },
  {
   "cell_type": "markdown",
   "id": "e4a0f11b-e34e-49ef-888b-24787d96dd4f",
   "metadata": {},
   "source": [
    "## More Data! (Collection and Management)\n",
    "I was able to find a table containing the weight that Conor fought at for each of his ufc fights at https://fighters.mixedmartialarts.com/Conor-McGregor:C280482C339CDEB6. The table was very easy to grab with pandas. There was one small hiccup. For the Weightclass column of the dataframe, every row was correct except the very last. It had a fight that was fought at 155lbs listed as \"WW\" for Welterweight, which is actually 170lbs. As a datascientist, I simply could not let this fly and simply corrected the row to \"LW\", or lightweight, accordingly."
   ]
  },
  {
   "cell_type": "code",
   "execution_count": 33,
   "id": "2b2ae615-c446-497a-ac3a-0b49e3ef4532",
   "metadata": {},
   "outputs": [
    {
     "data": {
      "text/html": [
       "<div>\n",
       "<style scoped>\n",
       "    .dataframe tbody tr th:only-of-type {\n",
       "        vertical-align: middle;\n",
       "    }\n",
       "\n",
       "    .dataframe tbody tr th {\n",
       "        vertical-align: top;\n",
       "    }\n",
       "\n",
       "    .dataframe thead th {\n",
       "        text-align: right;\n",
       "    }\n",
       "</style>\n",
       "<table border=\"1\" class=\"dataframe\">\n",
       "  <thead>\n",
       "    <tr style=\"text-align: right;\">\n",
       "      <th></th>\n",
       "      <th>W/L</th>\n",
       "      <th>Fighter</th>\n",
       "      <th>Kd</th>\n",
       "      <th>Str</th>\n",
       "      <th>Td</th>\n",
       "      <th>Sub</th>\n",
       "      <th>Event</th>\n",
       "      <th>Method</th>\n",
       "      <th>Round</th>\n",
       "      <th>Time</th>\n",
       "      <th>Pay</th>\n",
       "      <th>Record After Fight</th>\n",
       "      <th>Win/Loss Ratio</th>\n",
       "      <th>Weightclass</th>\n",
       "    </tr>\n",
       "  </thead>\n",
       "  <tbody>\n",
       "    <tr>\n",
       "      <th>0</th>\n",
       "      <td>win</td>\n",
       "      <td>Conor McGregor  Marcus Brimage</td>\n",
       "      <td>1  0</td>\n",
       "      <td>21  12</td>\n",
       "      <td>0  0</td>\n",
       "      <td>0  0</td>\n",
       "      <td>UFC on FUEL TV: Mousasi vs Latifi  Apr. 06, 2013</td>\n",
       "      <td>KO/TKO  Punches</td>\n",
       "      <td>1.0</td>\n",
       "      <td>1:07</td>\n",
       "      <td>76000</td>\n",
       "      <td>13-2</td>\n",
       "      <td>6.5</td>\n",
       "      <td>FTW (145.0 vs. 145.0)</td>\n",
       "    </tr>\n",
       "    <tr>\n",
       "      <th>1</th>\n",
       "      <td>win</td>\n",
       "      <td>Conor McGregor  Max Holloway</td>\n",
       "      <td>0  0</td>\n",
       "      <td>53  23</td>\n",
       "      <td>4  0</td>\n",
       "      <td>0  0</td>\n",
       "      <td>UFC Fight Night: Shogun vs Sonnen  Aug. 17, 2013</td>\n",
       "      <td>U-DEC</td>\n",
       "      <td>3.0</td>\n",
       "      <td>5:00</td>\n",
       "      <td>24000</td>\n",
       "      <td>14-2</td>\n",
       "      <td>7.0</td>\n",
       "      <td>FTW (146.0 vs. 145.0)</td>\n",
       "    </tr>\n",
       "    <tr>\n",
       "      <th>2</th>\n",
       "      <td>win</td>\n",
       "      <td>Conor McGregor  Diego Brandao</td>\n",
       "      <td>1  0</td>\n",
       "      <td>18  9</td>\n",
       "      <td>1  0</td>\n",
       "      <td>0  1</td>\n",
       "      <td>UFC Fight Night: McGregor vs Brandao  Jul. 19,...</td>\n",
       "      <td>KO/TKO  Punch</td>\n",
       "      <td>1.0</td>\n",
       "      <td>4:05</td>\n",
       "      <td>82000</td>\n",
       "      <td>15-2</td>\n",
       "      <td>7.5</td>\n",
       "      <td>FTW (145.0 vs. 145.0)</td>\n",
       "    </tr>\n",
       "    <tr>\n",
       "      <th>3</th>\n",
       "      <td>win</td>\n",
       "      <td>Conor McGregor  Dustin Poirier</td>\n",
       "      <td>1  0</td>\n",
       "      <td>9  10</td>\n",
       "      <td>0  0</td>\n",
       "      <td>0  0</td>\n",
       "      <td>UFC 178: Johnson vs Cariaso  Sep. 27, 2014</td>\n",
       "      <td>KO/TKO  Punch</td>\n",
       "      <td>1.0</td>\n",
       "      <td>1:46</td>\n",
       "      <td>200000</td>\n",
       "      <td>16-2</td>\n",
       "      <td>8.0</td>\n",
       "      <td>FTW (146.0 vs. 145.5)</td>\n",
       "    </tr>\n",
       "    <tr>\n",
       "      <th>4</th>\n",
       "      <td>win</td>\n",
       "      <td>Conor McGregor  Dennis Siver</td>\n",
       "      <td>1  0</td>\n",
       "      <td>64  32</td>\n",
       "      <td>0  0</td>\n",
       "      <td>0  0</td>\n",
       "      <td>UFC Fight Night: McGregor vs Siver  Jan. 18, 2015</td>\n",
       "      <td>KO/TKO  Punch</td>\n",
       "      <td>2.0</td>\n",
       "      <td>1:54</td>\n",
       "      <td>220000</td>\n",
       "      <td>17-2</td>\n",
       "      <td>8.5</td>\n",
       "      <td>FTW (145.0 vs. 146.0)</td>\n",
       "    </tr>\n",
       "  </tbody>\n",
       "</table>\n",
       "</div>"
      ],
      "text/plain": [
       "   W/L                         Fighter    Kd     Str    Td   Sub  \\\n",
       "0  win  Conor McGregor  Marcus Brimage  1  0  21  12  0  0  0  0   \n",
       "1  win    Conor McGregor  Max Holloway  0  0  53  23  4  0  0  0   \n",
       "2  win   Conor McGregor  Diego Brandao  1  0   18  9  1  0  0  1   \n",
       "3  win  Conor McGregor  Dustin Poirier  1  0   9  10  0  0  0  0   \n",
       "4  win    Conor McGregor  Dennis Siver  1  0  64  32  0  0  0  0   \n",
       "\n",
       "                                               Event           Method  Round  \\\n",
       "0   UFC on FUEL TV: Mousasi vs Latifi  Apr. 06, 2013  KO/TKO  Punches    1.0   \n",
       "1   UFC Fight Night: Shogun vs Sonnen  Aug. 17, 2013            U-DEC    3.0   \n",
       "2  UFC Fight Night: McGregor vs Brandao  Jul. 19,...    KO/TKO  Punch    1.0   \n",
       "3         UFC 178: Johnson vs Cariaso  Sep. 27, 2014    KO/TKO  Punch    1.0   \n",
       "4  UFC Fight Night: McGregor vs Siver  Jan. 18, 2015    KO/TKO  Punch    2.0   \n",
       "\n",
       "   Time     Pay Record After Fight  Win/Loss Ratio            Weightclass  \n",
       "0  1:07   76000               13-2             6.5  FTW (145.0 vs. 145.0)  \n",
       "1  5:00   24000               14-2             7.0  FTW (146.0 vs. 145.0)  \n",
       "2  4:05   82000               15-2             7.5  FTW (145.0 vs. 145.0)  \n",
       "3  1:46  200000               16-2             8.0  FTW (146.0 vs. 145.5)  \n",
       "4  1:54  220000               17-2             8.5  FTW (145.0 vs. 146.0)  "
      ]
     },
     "execution_count": 33,
     "metadata": {},
     "output_type": "execute_result"
    }
   ],
   "source": [
    "# Grab the table of weight classes and turn it into a dataframe\n",
    "weights = pd.read_html(\"https://fighters.mixedmartialarts.com/Conor-McGregor:C280482C339CDEB6\")[7]\n",
    "weights = weights[[\"Opponent\", \"Weightclass\"]]\n",
    "weights = weights.iloc[0:14, :] # Only keep UFC fights\n",
    "weights = weights.iloc[::-1] # Reverse the dataframe so oldest fights are at top\n",
    "weights.iloc[13, :][\"Weightclass\"] = 'LW (156.0 vs. 156.0)' # Here I correct incorrect data\n",
    "\n",
    "# Combine the dataframes\n",
    "weight_column = weights[\"Weightclass\"]\n",
    "df = df.join(weight_column)\n",
    "\n",
    "# Flip the weightclass column so it matches up with correct fights\n",
    "df[\"Weightclass\"] = df[\"Weightclass\"].values[::-1]\n",
    "df.head()"
   ]
  },
  {
   "cell_type": "markdown",
   "id": "c5ac1bec-49f9-424e-8b89-bbaec59a2466",
   "metadata": {},
   "source": [
    "Now that we have Conor's weight for each fight, lets visualize his performance at each weightclass.\n",
    "## Exploratory Analysis"
   ]
  },
  {
   "cell_type": "code",
   "execution_count": 34,
   "id": "e5283325-5564-4694-8946-d6188d9cf7cf",
   "metadata": {},
   "outputs": [
    {
     "data": {
      "text/plain": [
       "[<matplotlib.axis.XTick at 0x7ff4eace5d90>,\n",
       " <matplotlib.axis.XTick at 0x7ff4ead6b3d0>,\n",
       " <matplotlib.axis.XTick at 0x7ff4eac84c10>]"
      ]
     },
     "execution_count": 34,
     "metadata": {},
     "output_type": "execute_result"
    },
    {
     "data": {
      "image/png": "[encoded data removed]",
      "text/plain": [
       "<Figure size 432x288 with 1 Axes>"
      ]
     },
     "metadata": {
      "needs_background": "light"
     },
     "output_type": "display_data"
    }
   ],
   "source": [
    "# Get wins and losses for each weight class\n",
    "wins = [0,0,0]\n",
    "losses = [0,0,0]\n",
    "for idx in df.index:\n",
    "    if df.loc[idx, \"Weightclass\"][0:3] == \"FTW\":\n",
    "        if df.loc[idx, \"W/L\"] == \"win\":\n",
    "            wins[0] += 1\n",
    "        else:\n",
    "            losses[0] += 1\n",
    "\n",
    "    elif df.loc[idx, \"Weightclass\"][0:2] == \"LW\":\n",
    "        if df.loc[idx, \"W/L\"] == \"win\":\n",
    "            wins[1] += 1\n",
    "        else:\n",
    "            losses[1] += 1\n",
    "\n",
    "    elif df.loc[idx, \"Weightclass\"][0:2] == \"WW\":\n",
    "        if df.loc[idx, \"W/L\"] == \"win\":\n",
    "            wins[2] += 1\n",
    "        else:\n",
    "            losses[2] += 1\n",
    "\n",
    "# Initialize the bar chart\n",
    "import numpy as np \n",
    "X = np.arange(3)\n",
    "x_axis = [wins, losses]\n",
    "fig = mlp.figure()\n",
    "ax = fig.add_axes([0,0,1,1])\n",
    "ax.bar(X + 0.00, x_axis[0], color = 'g', width = 0.25)\n",
    "ax.bar(X + 0.25, x_axis[1], color = 'r', width = 0.25)\n",
    "ax.legend(labels=['Wins', 'Losses'])\n",
    "ax.set_xticks(X, (\"Featherweight (145lbs)\", \"Lightweight (155lbs)\", \"Welterweight (170lbs)\"))"
   ]
  },
  {
   "cell_type": "markdown",
   "id": "59cfd34d-428b-4e71-b679-d4dd1db83966",
   "metadata": {},
   "source": [
    "As shown by the bar chart, it seems that Conor actually did the best at his lightest, with 7 wins and 0 losses. The other two weight classes that he has competed at have been sort of a toss-up, but it's safe to say he's done the worst at what seems to be his natural weight, 155lbs, with 3 losses and only 1 win. It has been almost a year since Conor last fought, and rumor has it that he now weighs 190lbs. Only time will tell if this is a good or bad thing for Mystic Mac."
   ]
  },
  {
   "cell_type": "markdown",
   "id": "47b40032-c840-4041-afaa-8063a97969a5",
   "metadata": {},
   "source": [
    "## Factor 3: Skill/Style\n",
    "![SkillUrl](https://media.giphy.com/media/ZBQroqvYTBhiHbx3l7/giphy-downsized-large.gif \"Skill\")\n",
    "\n",
    "That gif represents the peak of McGregor's career, in 2016 when he destroyed then-champ Eddie Alvarez to become the first ever two-divison champion in UFC history. If you'd like to see the masterclass that he put on, as well as his famous predictions and trash-talking leading up to the fight, this video is great: https://www.youtube.com/watch?v=1Y9Ne-in4LY&ab_channel=TheCrayTrey. After this fight, at the peak of his fame and skill, Conor took two years off of MMA. Why? Money. Conor made history by fighting arguably the greatest boxer of all time, Floyd Mayweather, in a 2017 boxing match. Conor made an estimated $30 million for that fight alone, so no wonder he sacrificed himself to Floyd. There was one problem with Conor taking this fight though: Conor had to train for months in only boxing, where MMA involves boxing, kicking, wrestling, grappling, and overall much more chaos. Before Floyd, in the UFC, Conor's record was 9 wins and 1 loss. After Floyd, it has been 1 win and 3 losses. So the question I wish to answer is: did boxing Floyd change Conor? Specifically, did his style change to be more boxing heavy, causing him to be easier to predict and therefore beat? Also, did Conor's style simply change over time? From my own time watching him fight as well as intuition, I would guess that the stats say Conor mixed up his striking less after Floyd, that is, in his last 4 fights, I'd expect to see a higher percentage of his strikes aimed at the head than any of his fights before Floyd.\n",
    "\n",
    "## Data Collection and Management"
   ]
  },
  {
   "cell_type": "code",
   "execution_count": 79,
   "id": "f4c514be-12b7-4482-ac29-585bf747b490",
   "metadata": {},
   "outputs": [],
   "source": [
    "# Get Conor's overall stat page\n",
    "page = requests.request(\"GET\", \"http://ufcstats.com/fighter-details/f4c49976c75c5ab2\")\n",
    "page = bs(page.content, \"html.parser\")\n",
    "\n",
    "# Get the links for each fight's stats, store them in a list\n",
    "fight_links = []\n",
    "for t in page.find_all(\"tr\", class_=\"b-fight-details__table-row b-fight-details__table-row__hover js-fight-details-click\"):\n",
    "    fight_links += [t[\"onclick\"][7:-2]]\n",
    "\n",
    "# Reverse the list so earliest fight is at index 0\n",
    "fight_links.reverse()\n",
    "\n",
    "# Get each fight stat page\n",
    "all_stats = []\n",
    "for link in fight_links:\n",
    "    fight_page = requests.request(\"GET\", link)\n",
    "    fight_page = bs(fight_page.content, \"html.parser\")\n",
    "    \n",
    "    # Get the table of significant strikes stats\n",
    "    sig_strikes = fight_page.find_all(\"table\")[2]\n",
    "    \n",
    "    # Extract Conor's stats for each\n",
    "    stats = sig_strikes.find_all(\"p\", class_=\"b-fight-details__table-text\")\n",
    "    \n",
    "    # Sometimes Conor's stats are displayed first, sometimes second. This handles that\n",
    "    individual_stats = []\n",
    "    start_index = 0\n",
    "    if stats[0].text.strip() != \"Conor McGregor\":\n",
    "        start_index = 1\n",
    "    \n",
    "    # Now grab each individual stat for this fight\n",
    "    for i in range(start_index+2, len(stats), 2):\n",
    "        individual_stats += [stats[i].text.strip()]\n",
    "        \n",
    "    # Add this fight's stats to list of all fights' stats\n",
    "    all_stats += [individual_stats]"
   ]
  },
  {
   "cell_type": "markdown",
   "id": "0702abbb-e227-4389-91ff-bc6a1040019b",
   "metadata": {},
   "source": [
    "After that painstaking data collection and curation, we now have a list of Conor's total significant strikes, significant strike percentage, head strikes, body strikes, leg strikes, strikes from a distance, clinch strikes, and ground strikes, for each of Conor's fights in the UFC. Let's see how Conor's accuracy has held up across his career. Let's also see the ratio of different strike types to overall strikes, to see whether or not Conor really did start relying heavily on his boxing after Floyd. I'm not going to count ground, clinch, or distance strikes, as they can overlap with the other stats and aren't relevant to this analysis.\n",
    "\n",
    "## Exploratory Analysis"
   ]
  },
  {
   "cell_type": "code",
   "execution_count": 82,
   "id": "93ccad2c-d72b-4a7f-b3b4-ae400005821e",
   "metadata": {},
   "outputs": [],
   "source": [
    "import re\n",
    "\n",
    "# Iterate through the stats for each of Conor's fights\n",
    "all_fights = []\n",
    "for fight in all_stats:\n",
    "    this_fight = {}\n",
    "    fight = fight[:5] # Get rid of the stats we don't care about\n",
    "    \n",
    "    # Use regex and string slicing to extract stats\n",
    "    this_fight[\"Overall Significant Strikes Attempted\"] = int(re.search(\"[0-9]+$\", fight[0]).group())\n",
    "    this_fight[\"Significant Strike Accuracy\"] = fight[1]\n",
    "    this_fight[\"Head Strikes Landed\"] = int(re.search(\"^[0-9]+\", fight[2]).group())\n",
    "    this_fight[\"Head Strikes Attempted\"] = int(re.search(\"[0-9]+$\", fight[2]).group())\n",
    "    this_fight[\"Head Strike Accuracy\"] = this_fight[\"Head Strikes Landed\"] / this_fight[\"Head Strikes Attempted\"]\n",
    "    this_fight[\"Body Strikes Landed\"] = int(re.search(\"^[0-9]+\", fight[3]).group())\n",
    "    this_fight[\"Body Strikes Attempted\"] = int(re.search(\"[0-9]+$\", fight[3]).group())\n",
    "    this_fight[\"Body Strike Accuracy\"] = this_fight[\"Body Strikes Landed\"] / this_fight[\"Body Strikes Attempted\"]\n",
    "    this_fight[\"Leg Strikes Landed\"] = int(re.search(\"^[0-9]+\", fight[4]).group())\n",
    "    this_fight[\"Leg Strikes Attempted\"] = int(re.search(\"[0-9]+$\", fight[4]).group())\n",
    "    if this_fight[\"Leg Strikes Attempted\"] == 0:\n",
    "        this_fight[\"Leg Strike Accuracy\"] = 0.0\n",
    "    else:\n",
    "        this_fight[\"Leg Strike Accuracy\"] = this_fight[\"Leg Strikes Landed\"] / this_fight[\"Leg Strikes Attempted\"]\n",
    "        \n",
    "    all_fights += [this_fight]"
   ]
  },
  {
   "cell_type": "markdown",
   "id": "87f1f130-0a67-4a90-9bb4-ac0bb5c2259c",
   "metadata": {},
   "source": [
    "Okay, now that we have the numbers, lets try and visualize them."
   ]
  },
  {
   "cell_type": "code",
   "execution_count": 93,
   "id": "bc80a265-5441-46c7-8caf-84fd944fc01c",
   "metadata": {},
   "outputs": [
    {
     "data": {
      "text/plain": [
       "[<matplotlib.lines.Line2D at 0x7ff4ea08e1f0>]"
      ]
     },
     "execution_count": 93,
     "metadata": {},
     "output_type": "execute_result"
    },
    {
     "data": {
      "image/png": "[encoded data removed]",
      "text/plain": [
       "<Figure size 432x288 with 1 Axes>"
      ]
     },
     "metadata": {
      "needs_background": "light"
     },
     "output_type": "display_data"
    }
   ],
   "source": [
    "# First plot Conor's accuracy over his fights\n",
    "X = np.arange(len(all_fights))\n",
    "mlp.title(\"Conor's Accuracy Across His UFC Fights\")\n",
    "mlp.ylabel(\"Overall Percentage of Strikes Landed\")\n",
    "mlp.xlabel(\"Fight Number\")\n",
    "\n",
    "# Get all of Conor's fight accuracies\n",
    "accuracies = []\n",
    "for fight in all_fights:\n",
    "    accuracies += [int(fight[\"Significant Strike Accuracy\"][0:2])]\n",
    "\n",
    "# Add line of best fit and plot \n",
    "a, b = np.polyfit(X, accuracies, 1)\n",
    "mlp.plot(X, a*X+b)\n",
    "mlp.plot(X, accuracies, \"o\")"
   ]
  },
  {
   "cell_type": "markdown",
   "id": "64eef7c9-4c07-401a-befb-5b2176d65bab",
   "metadata": {},
   "source": [
    "The line of best fit seems to indicate that Conor's accuracy has gotten better, but the data is scattered enough that I lean towards unpredictable. It is worth noting that of his last four fights (post-Floyd), 3 of those fights were within his top 5 most accurate fights. Let's keep exploring.\n",
    "\n",
    "## More Exploratory Analysis"
   ]
  },
  {
   "cell_type": "code",
   "execution_count": 92,
   "id": "7556bf97-b642-48b0-96b8-363d52f420c3",
   "metadata": {},
   "outputs": [
    {
     "data": {
      "text/plain": [
       "<matplotlib.legend.Legend at 0x7ff4e9e5a9d0>"
      ]
     },
     "execution_count": 92,
     "metadata": {},
     "output_type": "execute_result"
    },
    {
     "data": {
      "image/png": "[encoded data removed]",
      "text/plain": [
       "<Figure size 432x288 with 1 Axes>"
      ]
     },
     "metadata": {
      "needs_background": "light"
     },
     "output_type": "display_data"
    }
   ],
   "source": [
    "# Get all of Conor's attempted strikes for each fight\n",
    "head_strikes_attempted = []\n",
    "body_strikes_attempted = []\n",
    "leg_strikes_attempted = []\n",
    "for fight in all_fights:\n",
    "    head_strikes_attempted += [fight[\"Head Strikes Attempted\"]]\n",
    "    body_strikes_attempted += [fight[\"Body Strikes Attempted\"]]\n",
    "    leg_strikes_attempted += [fight[\"Leg Strikes Attempted\"]]\n",
    "    \n",
    "\n",
    "# Initialize the bar chart\n",
    "X = np.arange(14)\n",
    "x_axis = [head_strikes_attempted, body_strikes_attempted, leg_strikes_attempted]\n",
    "fig = mlp.figure()\n",
    "ax = fig.add_axes([0,0,1,1])\n",
    "ax.bar(X + 0.00, x_axis[0], color = 'g', width = 0.25)\n",
    "ax.bar(X + 0.25, x_axis[1], color = 'r', width = 0.25)\n",
    "ax.bar(X + 0.50, x_axis[2], color = 'b', width = 0.25)\n",
    "ax.legend(labels=['Head', 'Body', 'Leg'])"
   ]
  },
  {
   "cell_type": "markdown",
   "id": "17067e94-ea8f-4310-8284-406016880589",
   "metadata": {},
   "source": [
    "The bar chart seems to say that Conor has never been that good at \"mixing things up\", at least in terms of what part of the body he aims for. It does make sense that someone who is considered a proficient knockout artist would have the majority of his strikes going for the head. I will say that I wish that this data set included types of strikes, such as whether a strike was a punch, kick, elbow. I think that would be much better at illuminating how much Conor's style has or has not changed. But the data shows that Conor hasn't changed significantly in any direction over time!"
   ]
  },
  {
   "cell_type": "markdown",
   "id": "6091c782-5dba-42be-b697-c664c8b9c3cb",
   "metadata": {},
   "source": [
    "## So does Conor suck now or not?\n",
    "![WinUrl](https://media.giphy.com/media/3o6Ztctr3MC8LMNTaw/giphy.gif \"Win\")\n",
    "\n",
    "Great question young padawan. At first glimpse, it may seem like Conor has fallen off recently, since he's only won once in his last four bouts. If we consider his accuracy and variety of strikes, not much has changed across his career. However, let's consider the other two factors. First, it does seem that as Conor became richer, his performance became poorer, at least in terms of his ability to win. Second, Conor started his career in the UFC with 7 fights in a row at featherweight, winning them all. As he ventured out of that weight class, he started losing a lot more, with a record of 3-4 outside of the featherweight division. But let me reiterate, CORRELATION DOES NOT EQUAL CAUSATION. And no, I'm not just saying that because I like Conor. A lot of non-quantifiable things have changed, such as his mindset after losing multiple times, fighting harder opponents later in his career, and taking much longer between fights that when he was on his rise. He also could have stayed at the weight class that he performed best at, but has chosen to fight bigger opponents, even if it hurt his record. So to answer your question, no, he doesn't suck now. To be honest, I think only time will tell whether or not Conor has truly fell off, but his legacy has definitely been hurt by some of his more recent fights. In the end, Conor is still as entertaining as ever, and will forever be his own type of legend, win or lose."
   ]
  }
 ],
 "metadata": {
  "kernelspec": {
   "display_name": "Python 3 (ipykernel)",
   "language": "python",
   "name": "python3"
  },
  "language_info": {
   "codemirror_mode": {
    "name": "ipython",
    "version": 3
   },
   "file_extension": ".py",
   "mimetype": "text/x-python",
   "name": "python",
   "nbconvert_exporter": "python",
   "pygments_lexer": "ipython3",
   "version": "3.9.7"
  }
 },
 "nbformat": 4,
 "nbformat_minor": 5
}
