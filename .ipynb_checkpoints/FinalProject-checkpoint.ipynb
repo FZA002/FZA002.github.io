{
 "cells": [
  {
   "cell_type": "markdown",
   "id": "f75dc832-168a-4622-9a69-0373c146f33e",
   "metadata": {},
   "source": [
    "# The Rise (and Fall?) of Conor Mcgregor\n",
    "## By Frederick Almond"
   ]
  },
  {
   "cell_type": "markdown",
   "id": "3ea1191a-e1f4-4ec4-9041-42d309aeebc3",
   "metadata": {},
   "source": [
    "![WalkUrl](https://media.giphy.com/media/uypubDRjnv0icWp2hV/giphy.gif \"Walk\")"
   ]
  },
  {
   "cell_type": "markdown",
   "id": "da888c80-1fdf-4d6c-88d6-c34cec0f5712",
   "metadata": {},
   "source": [
    "# First, some background...\n",
    "Conor McGregor. Quite a polarizing name to most. For those of you who don't know, Conor McGregor is an irish mixed martial artist currently competing in the Ultimate Fighting Competition (UFC). He is the former featherweight (145lbs) and lightweight (155lbs) champion, and is the first ever competitor in UFC history to have been a champion in two weight classes simultaneously. He is widely regarded as the most influential mixed martial artist ever, and is recognized for his massive role in catapulting MMA onto the global stage. Conor's rise to fame not only came from skill that was ahead of his time, but his immense confidence and trash talking that came with it. He earned the nickname \"The Mystic Mac\" after predicting many of his victories down to the round and method of victory. As you can imagine, this gained him a boatload of fans very quickly, and made his brand expand outside of just MMA. Further reading on Conor is available at: https://en.wikipedia.org/wiki/Conor_McGregor"
   ]
  },
  {
   "cell_type": "markdown",
   "id": "8e9f7fd2-afc9-4900-98a0-87dc60e9cd56",
   "metadata": {},
   "source": [
    "# Okay. So what about him?"
   ]
  },
  {
   "cell_type": "markdown",
   "id": "a068022e-e494-45d5-83a4-3c99d1427f6a",
   "metadata": {},
   "source": [
    "In recent years, Conor has changed in many ways. Money, fame, and a huge ego have put him in a completely different position then when he started competing in MMA. As time has gone on, many factors have changed, not only relating to his lifestyle, but also in MMA. Fighters have become more well-rounded since McGregor's meteoric rise, where as Conor has mostly stuck to his traditional, hands-low, karate style of fighting, which is part of his appeal to fans. In this project, my goal is to try and use data science to better understand factors that may have had an affect upon his performance. I will explore many different factors, each as their own section. Many people argue that he is now \"washed up\", while his fans (myself included) hope that he may one day snag UFC gold again."
   ]
  },
  {
   "cell_type": "markdown",
   "id": "f50beecd-54b2-4ac2-8ce1-e3e231353245",
   "metadata": {
    "tags": []
   },
   "source": [
    "# The Data\n",
    "The data I will use will mostly only be on fights in the UFC. It's worth noting that of Conor's record of 22 wins and 6 losses, only the 14 most recent of those fights were in the UFC. The internet has very conveniently blessed the world with http://ufcstats.com/statistics/events/completed. This website has detailed statistics on every fighter and fight that has taken place in the UFC. It has statistics on a fighter as a whole, on specific fights, and even specific rounds of fights. It allows us to see how many strikes a fighter lands, their accuracy, where the strikes landed, how many takedowns they land or go for, and much more."
   ]
  },
  {
   "cell_type": "markdown",
   "id": "083c6eb7-23ad-473b-bb8a-0c0f109aee6d",
   "metadata": {},
   "source": [
    "# Data Collection\n",
    "Below is the code I used to grab the intial data from ufcstats page on Conor. The table that I extracted with pandas lists all of Conor's fights, along with a few major data points on these. These points include: whether Conor won or lost, who he fought, # of knockdowns by both fighters, # of significant strikes landed by both fighters, # of takedowns attempted by both fighters, # of submissions attempted by both fighters, the name of the event, date of the event, what round the fight finished in, and at what time of that round the fight finished at."
   ]
  },
  {
   "cell_type": "code",
   "execution_count": 57,
   "id": "8dac2291-af77-4237-ac38-c7630daf1b3c",
   "metadata": {},
   "outputs": [
    {
     "data": {
      "text/html": [
       "<div>\n",
       "<style scoped>\n",
       "    .dataframe tbody tr th:only-of-type {\n",
       "        vertical-align: middle;\n",
       "    }\n",
       "\n",
       "    .dataframe tbody tr th {\n",
       "        vertical-align: top;\n",
       "    }\n",
       "\n",
       "    .dataframe thead th {\n",
       "        text-align: right;\n",
       "    }\n",
       "</style>\n",
       "<table border=\"1\" class=\"dataframe\">\n",
       "  <thead>\n",
       "    <tr style=\"text-align: right;\">\n",
       "      <th></th>\n",
       "      <th>W/L</th>\n",
       "      <th>Fighter</th>\n",
       "      <th>Kd</th>\n",
       "      <th>Str</th>\n",
       "      <th>Td</th>\n",
       "      <th>Sub</th>\n",
       "      <th>Event</th>\n",
       "      <th>Method</th>\n",
       "      <th>Round</th>\n",
       "      <th>Time</th>\n",
       "    </tr>\n",
       "  </thead>\n",
       "  <tbody>\n",
       "    <tr>\n",
       "      <th>1</th>\n",
       "      <td>loss</td>\n",
       "      <td>Conor McGregor  Dustin Poirier</td>\n",
       "      <td>0  0</td>\n",
       "      <td>27  36</td>\n",
       "      <td>0  1</td>\n",
       "      <td>1  0</td>\n",
       "      <td>UFC 264: Poirier vs. McGregor 3  Jul. 10, 2021</td>\n",
       "      <td>KO/TKO</td>\n",
       "      <td>1.0</td>\n",
       "      <td>5:00</td>\n",
       "    </tr>\n",
       "    <tr>\n",
       "      <th>2</th>\n",
       "      <td>loss</td>\n",
       "      <td>Conor McGregor  Dustin Poirier</td>\n",
       "      <td>0  1</td>\n",
       "      <td>29  48</td>\n",
       "      <td>0  1</td>\n",
       "      <td>0  0</td>\n",
       "      <td>UFC 257: Poirier vs. McGregor  Jan. 23, 2021</td>\n",
       "      <td>KO/TKO  Punches</td>\n",
       "      <td>2.0</td>\n",
       "      <td>2:32</td>\n",
       "    </tr>\n",
       "    <tr>\n",
       "      <th>3</th>\n",
       "      <td>win</td>\n",
       "      <td>Conor McGregor  Donald Cerrone</td>\n",
       "      <td>1  0</td>\n",
       "      <td>19  0</td>\n",
       "      <td>0  0</td>\n",
       "      <td>0  0</td>\n",
       "      <td>UFC 246: McGregor vs. Cowboy  Jan. 18, 2020</td>\n",
       "      <td>KO/TKO  Punches</td>\n",
       "      <td>1.0</td>\n",
       "      <td>0:40</td>\n",
       "    </tr>\n",
       "    <tr>\n",
       "      <th>4</th>\n",
       "      <td>loss</td>\n",
       "      <td>Conor McGregor  Khabib Nurmagomedov</td>\n",
       "      <td>0  0</td>\n",
       "      <td>51  70</td>\n",
       "      <td>0  3</td>\n",
       "      <td>0  1</td>\n",
       "      <td>UFC 229: Khabib vs. McGregor  Oct. 06, 2018</td>\n",
       "      <td>SUB  Neck Crank</td>\n",
       "      <td>4.0</td>\n",
       "      <td>3:03</td>\n",
       "    </tr>\n",
       "    <tr>\n",
       "      <th>5</th>\n",
       "      <td>win</td>\n",
       "      <td>Conor McGregor  Eddie Alvarez</td>\n",
       "      <td>3  0</td>\n",
       "      <td>32  9</td>\n",
       "      <td>0  0</td>\n",
       "      <td>0  0</td>\n",
       "      <td>UFC 205: Alvarez vs McGregor  Nov. 12, 2016</td>\n",
       "      <td>KO/TKO  Punches</td>\n",
       "      <td>2.0</td>\n",
       "      <td>3:04</td>\n",
       "    </tr>\n",
       "  </tbody>\n",
       "</table>\n",
       "</div>"
      ],
      "text/plain": [
       "    W/L                              Fighter    Kd     Str    Td   Sub  \\\n",
       "1  loss       Conor McGregor  Dustin Poirier  0  0  27  36  0  1  1  0   \n",
       "2  loss       Conor McGregor  Dustin Poirier  0  1  29  48  0  1  0  0   \n",
       "3   win       Conor McGregor  Donald Cerrone  1  0   19  0  0  0  0  0   \n",
       "4  loss  Conor McGregor  Khabib Nurmagomedov  0  0  51  70  0  3  0  1   \n",
       "5   win        Conor McGregor  Eddie Alvarez  3  0   32  9  0  0  0  0   \n",
       "\n",
       "                                            Event           Method  Round  \\\n",
       "1  UFC 264: Poirier vs. McGregor 3  Jul. 10, 2021           KO/TKO    1.0   \n",
       "2    UFC 257: Poirier vs. McGregor  Jan. 23, 2021  KO/TKO  Punches    2.0   \n",
       "3     UFC 246: McGregor vs. Cowboy  Jan. 18, 2020  KO/TKO  Punches    1.0   \n",
       "4     UFC 229: Khabib vs. McGregor  Oct. 06, 2018  SUB  Neck Crank    4.0   \n",
       "5     UFC 205: Alvarez vs McGregor  Nov. 12, 2016  KO/TKO  Punches    2.0   \n",
       "\n",
       "   Time  \n",
       "1  5:00  \n",
       "2  2:32  \n",
       "3  0:40  \n",
       "4  3:03  \n",
       "5  3:04  "
      ]
     },
     "execution_count": 57,
     "metadata": {},
     "output_type": "execute_result"
    }
   ],
   "source": [
    "import requests\n",
    "import pandas as pd\n",
    "from bs4 import BeautifulSoup as bs\n",
    "\n",
    "# Use pandas to grab the table of Conor's fights\n",
    "df = pd.read_html(\"http://ufcstats.com/fighter-details/f4c49976c75c5ab2\", header=[0])[0]\n",
    "df = df.iloc[1: , :] # Get rid of first row, which is just NaN's\n",
    "df.head()"
   ]
  },
  {
   "cell_type": "markdown",
   "id": "d6dcec04-78a1-46cf-a1d7-6e0689344a52",
   "metadata": {},
   "source": [
    "# Factor 1: Pay per Fight\n",
    "![MoneyUrl](https://media.giphy.com/media/tuWADkb2g3PAk/giphy.gif \"Money\")\n",
    "\n",
    "It's no surprise that as McGregor's popularity grew, so did his paychecks. Conor started at a mere 8,000 dollars to show up to fight, and an additional $8,000 to win. Don't forget, that's before taxes as well as paying his fighting team. This was also before he earned numerous, lucrative sponsorships and started many of his own businesses, which have only further fattened his pockets. I was able to find his pay (excluding additional earnings from Pay-per-view percentages) for each fight in the UFC from https://thesportsdaily.com/2021/07/11/conor-mcgregor-career-earnings-fox11/. Is the saying, \"It’s tough to get out of bed to do roadwork at 5am when you’ve been sleeping in silk pajamas\" true for Conor? Or has the money not gotten to his head in terms of performance? Let's find out."
   ]
  },
  {
   "cell_type": "code",
   "execution_count": 58,
   "id": "8cf464b6-c6af-429b-a27b-21ea434861ab",
   "metadata": {},
   "outputs": [
    {
     "data": {
      "text/html": [
       "<div>\n",
       "<style scoped>\n",
       "    .dataframe tbody tr th:only-of-type {\n",
       "        vertical-align: middle;\n",
       "    }\n",
       "\n",
       "    .dataframe tbody tr th {\n",
       "        vertical-align: top;\n",
       "    }\n",
       "\n",
       "    .dataframe thead th {\n",
       "        text-align: right;\n",
       "    }\n",
       "</style>\n",
       "<table border=\"1\" class=\"dataframe\">\n",
       "  <thead>\n",
       "    <tr style=\"text-align: right;\">\n",
       "      <th></th>\n",
       "      <th>W/L</th>\n",
       "      <th>Fighter</th>\n",
       "      <th>Kd</th>\n",
       "      <th>Str</th>\n",
       "      <th>Td</th>\n",
       "      <th>Sub</th>\n",
       "      <th>Event</th>\n",
       "      <th>Method</th>\n",
       "      <th>Round</th>\n",
       "      <th>Time</th>\n",
       "      <th>Pay</th>\n",
       "    </tr>\n",
       "  </thead>\n",
       "  <tbody>\n",
       "    <tr>\n",
       "      <th>14</th>\n",
       "      <td>win</td>\n",
       "      <td>Conor McGregor  Marcus Brimage</td>\n",
       "      <td>1  0</td>\n",
       "      <td>21  12</td>\n",
       "      <td>0  0</td>\n",
       "      <td>0  0</td>\n",
       "      <td>UFC on FUEL TV: Mousasi vs Latifi  Apr. 06, 2013</td>\n",
       "      <td>KO/TKO  Punches</td>\n",
       "      <td>1.0</td>\n",
       "      <td>1:07</td>\n",
       "      <td>76000</td>\n",
       "    </tr>\n",
       "    <tr>\n",
       "      <th>13</th>\n",
       "      <td>win</td>\n",
       "      <td>Conor McGregor  Max Holloway</td>\n",
       "      <td>0  0</td>\n",
       "      <td>53  23</td>\n",
       "      <td>4  0</td>\n",
       "      <td>0  0</td>\n",
       "      <td>UFC Fight Night: Shogun vs Sonnen  Aug. 17, 2013</td>\n",
       "      <td>U-DEC</td>\n",
       "      <td>3.0</td>\n",
       "      <td>5:00</td>\n",
       "      <td>24000</td>\n",
       "    </tr>\n",
       "    <tr>\n",
       "      <th>12</th>\n",
       "      <td>win</td>\n",
       "      <td>Conor McGregor  Diego Brandao</td>\n",
       "      <td>1  0</td>\n",
       "      <td>18  9</td>\n",
       "      <td>1  0</td>\n",
       "      <td>0  1</td>\n",
       "      <td>UFC Fight Night: McGregor vs Brandao  Jul. 19,...</td>\n",
       "      <td>KO/TKO  Punch</td>\n",
       "      <td>1.0</td>\n",
       "      <td>4:05</td>\n",
       "      <td>82000</td>\n",
       "    </tr>\n",
       "    <tr>\n",
       "      <th>11</th>\n",
       "      <td>win</td>\n",
       "      <td>Conor McGregor  Dustin Poirier</td>\n",
       "      <td>1  0</td>\n",
       "      <td>9  10</td>\n",
       "      <td>0  0</td>\n",
       "      <td>0  0</td>\n",
       "      <td>UFC 178: Johnson vs Cariaso  Sep. 27, 2014</td>\n",
       "      <td>KO/TKO  Punch</td>\n",
       "      <td>1.0</td>\n",
       "      <td>1:46</td>\n",
       "      <td>200000</td>\n",
       "    </tr>\n",
       "    <tr>\n",
       "      <th>10</th>\n",
       "      <td>win</td>\n",
       "      <td>Conor McGregor  Dennis Siver</td>\n",
       "      <td>1  0</td>\n",
       "      <td>64  32</td>\n",
       "      <td>0  0</td>\n",
       "      <td>0  0</td>\n",
       "      <td>UFC Fight Night: McGregor vs Siver  Jan. 18, 2015</td>\n",
       "      <td>KO/TKO  Punch</td>\n",
       "      <td>2.0</td>\n",
       "      <td>1:54</td>\n",
       "      <td>220000</td>\n",
       "    </tr>\n",
       "  </tbody>\n",
       "</table>\n",
       "</div>"
      ],
      "text/plain": [
       "    W/L                         Fighter    Kd     Str    Td   Sub  \\\n",
       "14  win  Conor McGregor  Marcus Brimage  1  0  21  12  0  0  0  0   \n",
       "13  win    Conor McGregor  Max Holloway  0  0  53  23  4  0  0  0   \n",
       "12  win   Conor McGregor  Diego Brandao  1  0   18  9  1  0  0  1   \n",
       "11  win  Conor McGregor  Dustin Poirier  1  0   9  10  0  0  0  0   \n",
       "10  win    Conor McGregor  Dennis Siver  1  0  64  32  0  0  0  0   \n",
       "\n",
       "                                                Event           Method  Round  \\\n",
       "14   UFC on FUEL TV: Mousasi vs Latifi  Apr. 06, 2013  KO/TKO  Punches    1.0   \n",
       "13   UFC Fight Night: Shogun vs Sonnen  Aug. 17, 2013            U-DEC    3.0   \n",
       "12  UFC Fight Night: McGregor vs Brandao  Jul. 19,...    KO/TKO  Punch    1.0   \n",
       "11         UFC 178: Johnson vs Cariaso  Sep. 27, 2014    KO/TKO  Punch    1.0   \n",
       "10  UFC Fight Night: McGregor vs Siver  Jan. 18, 2015    KO/TKO  Punch    2.0   \n",
       "\n",
       "    Time     Pay  \n",
       "14  1:07   76000  \n",
       "13  5:00   24000  \n",
       "12  4:05   82000  \n",
       "11  1:46  200000  \n",
       "10  1:54  220000  "
      ]
     },
     "execution_count": 58,
     "metadata": {},
     "output_type": "execute_result"
    }
   ],
   "source": [
    "# Add the pay Conor earned for each fight to our dataframe\n",
    "pay = [5011000, 5011000, 3060000, 2980000, 3090000, 3090000, 1090000, 590000, 580000, 220000, 200000, 82000, 24000, 76000]\n",
    "df[\"Pay\"] = pay\n",
    "df = df.iloc[::-1] # Reverse the dataframe so oldest fights are at top\n",
    "df.head()"
   ]
  },
  {
   "cell_type": "markdown",
   "id": "81f29f83-ec2d-4b46-a229-7f8dfc66c36e",
   "metadata": {},
   "source": [
    "Now that we have his pay per fight, let's calculate his cumulative win loss ratio before each fight. Here I'm going to start the win-loss ratio to include his record before the UFC (12-2). It's safe to assume that he was making much less per fight before he joined the organization. This would start him with a win-loss of 6.0."
   ]
  },
  {
   "cell_type": "code",
   "execution_count": 55,
   "id": "00d759ac-3827-4620-b408-3e65d13720af",
   "metadata": {},
   "outputs": [
    {
     "data": {
      "text/plain": [
       "[<matplotlib.lines.Line2D at 0x7f39342e7610>]"
      ]
     },
     "execution_count": 55,
     "metadata": {},
     "output_type": "execute_result"
    },
    {
     "data": {
      "image/png": "[encoded data removed]",
      "text/plain": [
       "<Figure size 432x288 with 1 Axes>"
      ]
     },
     "metadata": {
      "needs_background": "light"
     },
     "output_type": "display_data"
    }
   ],
   "source": [
    "# Iterate through the dataframe and keep a running tab of Conor's professional record\n",
    "wins = 12\n",
    "losses = 2\n",
    "ratio = wins/losses\n",
    "wl_ratio_column = []\n",
    "record_column = []\n",
    "\n",
    "# Go through the dataframe from bottom to top, since the bottom of the dataframe is the oldest fight\n",
    "for idx in df.index:\n",
    "    if df.loc[idx, \"W/L\"] == \"win\":\n",
    "        wins += 1\n",
    "    else:\n",
    "        losses += 1\n",
    "    \n",
    "    ratio = wins/losses\n",
    "    wl_ratio_column += [ratio]\n",
    "    record_column += [\"{}-{}\".format(str(wins), str(losses))]\n",
    "    \n",
    "# Add the wl ratio and record to the dataframe\n",
    "df[\"Record After Fight\"] = record_column\n",
    "df[\"Win/Loss Ratio\"] = wl_ratio_column\n",
    "df = df.reset_index() # Fix indicies\n",
    "df = df.drop(\"index\", axis=1)\n",
    "\n",
    "# Finally, lets visualize this\n",
    "import matplotlib.pyplot as mlp\n",
    "mlp.title(\"Conor's Pay Per Fight Versus Win/Loss Ratio\")\n",
    "mlp.ylabel(\"Win/Loss Ratio\")\n",
    "mlp.xlabel(\"Pay\")\n",
    "mlp.plot(df[\"Pay\"], df[\"Win/Loss Ratio\"], \"o\")"
   ]
  },
  {
   "cell_type": "markdown",
   "id": "13557ee8-68e3-4972-8938-f282e436ba7b",
   "metadata": {},
   "source": [
    "As you can see, as Conor's pay increased, it seems that his win-loss ratio decreased. He had an inital 7 fight win streak, and after that, he started making over $500,000 per fight, which is around when his win-loss ratio rapidly declined. Other factors aside, it does seem that as Conor earned more money, he also earned more losses. But remember, correlation does not equal causation!"
   ]
  },
  {
   "cell_type": "code",
   "execution_count": null,
   "id": "e61f381d-a25f-459f-a875-a518e76eb48b",
   "metadata": {},
   "outputs": [],
   "source": []
  }
 ],
 "metadata": {
  "kernelspec": {
   "display_name": "Python 3 (ipykernel)",
   "language": "python",
   "name": "python3"
  },
  "language_info": {
   "codemirror_mode": {
    "name": "ipython",
    "version": 3
   },
   "file_extension": ".py",
   "mimetype": "text/x-python",
   "name": "python",
   "nbconvert_exporter": "python",
   "pygments_lexer": "ipython3",
   "version": "3.9.7"
  }
 },
 "nbformat": 4,
 "nbformat_minor": 5
}
